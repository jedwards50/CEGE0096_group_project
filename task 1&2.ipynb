{
 "cells": [
  {
   "cell_type": "code",
   "execution_count": 1,
   "metadata": {},
   "outputs": [],
   "source": [
    "# GEOG0096 - 2nd Assignment (Group Programming Project)\n",
    "# Task 1 & 2 - Drafts \n",
    "# Student Name: Hongmin Du\n",
    "# Student Number: 20066724\n"
   ]
  },
  {
   "cell_type": "code",
   "execution_count": 2,
   "metadata": {},
   "outputs": [],
   "source": [
    "# The ideas of making those codes mainly referred to the lecture slides and Jupyter Notebook notes. \n",
    "# Official tutorials of used python packages were also referred.\n",
    "# This software should be run with the given materials, some packages for GIS will need to be imported before running this project. \n"
   ]
  },
  {
   "cell_type": "code",
   "execution_count": 3,
   "metadata": {},
   "outputs": [],
   "source": [
    "# Task 1. User Input\n",
    "\n",
    "# In this task, this software should:\n",
    "# Ask the user to input their current location as a British National Grid coordinate (easting and northing)\n",
    "# Test whether the user is within a box (430000, 80000) and (465000, 95000)\n"
   ]
  },
  {
   "cell_type": "code",
   "execution_count": 4,
   "metadata": {},
   "outputs": [],
   "source": [
    "# 1.1 Import required packages for the following steps\n",
    "import math\n",
    "from linecache import getline\n",
    "import numpy as np\n",
    "\n",
    "ELEVATION_RADIUS = 5000\n"
   ]
  },
  {
   "cell_type": "code",
   "execution_count": 5,
   "metadata": {},
   "outputs": [
    {
     "name": "stdout",
     "output_type": "stream",
     "text": [
      "Extreme flooding is expected on the Isle of Wightand, the authority in charge of planning the emergency response is advising everyone to proceed by foot to the nearest high ground.\n",
      "This software will give the quickest route from the user's current location to the highest point within a 5km radius in the chosen area .\n",
      "Firstly, let's check whether your location is included in the testing area!\n"
     ]
    }
   ],
   "source": [
    "# 1.2 Let the user input the easting and northing and test the location\n",
    "print(\"Extreme flooding is expected on the Isle of Wightand, the authority in charge of planning the emergency response is advising everyone to proceed by foot to the nearest high ground.\")\n",
    "print(\"This software will give the quickest route from the user's current location to the highest point within a 5km radius in the chosen area .\")\n",
    "print(\"Firstly, let's check whether your location is included in the testing area!\")\n"
   ]
  },
  {
   "cell_type": "code",
   "execution_count": 6,
   "metadata": {},
   "outputs": [
    {
     "name": "stdout",
     "output_type": "stream",
     "text": [
      "Please input easting of British National Grid:\n",
      "455000\n",
      "This easting is included in the testing area!\n",
      "Please input northing of British National Grid:\n",
      "85500\n",
      "This northing is included in the testing area!\n"
     ]
    }
   ],
   "source": [
    "# 1.2.1 Let the user input the easting of British National Grid and test\n",
    "coord=input(\"Please input easting of British National Grid:\\n\")\n",
    "easting = int(coord)\n",
    "if 430000 <= easting <= 465000:\n",
    "    pass\n",
    "    print(\"This easting is included in the testing area!\")\n",
    "else:\n",
    "    print(\"Easting not in 430000 465000, please inter another easting!\")\n",
    "    exit(0)\n",
    "    \n",
    "# 1.2.2 Let the user input the northing of British National Grid and test\n",
    "coord=input(\"Please input northing of British National Grid:\\n\")\n",
    "northing = int(coord)\n",
    "if 80000 <= northing <= 95000:\n",
    "    pass\n",
    "    print(\"This northing is included in the testing area!\")\n",
    "else:\n",
    "    print(\"Northing not in 80000 95000, please enter another northing!\")\n",
    "    exit(0)\n"
   ]
  },
  {
   "cell_type": "code",
   "execution_count": 7,
   "metadata": {},
   "outputs": [],
   "source": [
    "# Task 2. Highest Point Identification\n",
    "\n",
    "# In this task, this software should:\n",
    "# Identify the highest point within a 5km radius from the user location.\n"
   ]
  },
  {
   "cell_type": "code",
   "execution_count": 8,
   "metadata": {},
   "outputs": [
    {
     "name": "stderr",
     "output_type": "stream",
     "text": [
      "<ipython-input-8-c7c1da27ddf2>:20: UserWarning: loadtxt: Empty input file: \".\\Material\\elevation\\SZ.asc\"\n",
      "  elev_arr = np.loadtxt(r'.\\Material\\elevation\\SZ.asc', skiprows=rows_to_skip, max_rows=max_rows, usecols=range(start_col,end_col))\n"
     ]
    },
    {
     "ename": "ValueError",
     "evalue": "attempt to get argmax of an empty sequence",
     "output_type": "error",
     "traceback": [
      "\u001b[1;31m---------------------------------------------------------------------------\u001b[0m",
      "\u001b[1;31mValueError\u001b[0m                                Traceback (most recent call last)",
      "\u001b[1;32m<ipython-input-8-c7c1da27ddf2>\u001b[0m in \u001b[0;36m<module>\u001b[1;34m\u001b[0m\n\u001b[0;32m     21\u001b[0m \u001b[1;31m# print(elev_arr.max())\u001b[0m\u001b[1;33m\u001b[0m\u001b[1;33m\u001b[0m\u001b[1;33m\u001b[0m\u001b[0m\n\u001b[0;32m     22\u001b[0m \u001b[1;31m# print(elev_arr.shape)\u001b[0m\u001b[1;33m\u001b[0m\u001b[1;33m\u001b[0m\u001b[1;33m\u001b[0m\u001b[0m\n\u001b[1;32m---> 23\u001b[1;33m \u001b[0mhighest_elevation\u001b[0m \u001b[1;33m=\u001b[0m \u001b[0mnp\u001b[0m\u001b[1;33m.\u001b[0m\u001b[0munravel_index\u001b[0m\u001b[1;33m(\u001b[0m\u001b[0melev_arr\u001b[0m\u001b[1;33m.\u001b[0m\u001b[0margmax\u001b[0m\u001b[1;33m(\u001b[0m\u001b[1;33m)\u001b[0m\u001b[1;33m,\u001b[0m \u001b[0melev_arr\u001b[0m\u001b[1;33m.\u001b[0m\u001b[0mshape\u001b[0m\u001b[1;33m)\u001b[0m\u001b[1;33m\u001b[0m\u001b[1;33m\u001b[0m\u001b[0m\n\u001b[0m\u001b[0;32m     24\u001b[0m \u001b[1;31m# print(highest_elevation)\u001b[0m\u001b[1;33m\u001b[0m\u001b[1;33m\u001b[0m\u001b[1;33m\u001b[0m\u001b[0m\n\u001b[0;32m     25\u001b[0m \u001b[0mh_x_index\u001b[0m \u001b[1;33m=\u001b[0m \u001b[0mhighest_elevation\u001b[0m\u001b[1;33m[\u001b[0m\u001b[1;36m1\u001b[0m\u001b[1;33m]\u001b[0m \u001b[1;33m-\u001b[0m \u001b[1;33m(\u001b[0m\u001b[0mELEVATION_RADIUS\u001b[0m \u001b[1;33m//\u001b[0m \u001b[0mcell\u001b[0m\u001b[1;33m)\u001b[0m \u001b[1;33m*\u001b[0m \u001b[1;36m2\u001b[0m\u001b[1;33m\u001b[0m\u001b[1;33m\u001b[0m\u001b[0m\n",
      "\u001b[1;31mValueError\u001b[0m: attempt to get argmax of an empty sequence"
     ]
    }
   ],
   "source": [
    "# 2.1 Limit the size of the elevation array\n",
    "source = r'.\\Material\\elevation\\SZ.asc'\n",
    "asc_header = [getline(source, i) for i in range(1, 6)]\n",
    "header_values = [int(h.split(\" \")[-1].strip()) for h in asc_header]\n",
    "cols, rows, lx, ly, cell = header_values\n",
    "# print(\"header_values\")\n",
    "# print(header_values)\n",
    "asc_index_x = math.floor((easting - lx) // cell)\n",
    "asc_index_y = math.floor((northing - ly) // cell)\n",
    "# print(\"asc_index_x\", \"asc_index_y\")\n",
    "# print(asc_index_x, asc_index_y)\n",
    "rows_to_skip = 5 + asc_index_x - (ELEVATION_RADIUS // cell)\n",
    "max_rows = (ELEVATION_RADIUS // cell) * 2 + 1\n",
    "start_col = asc_index_x - 1000\n",
    "end_col = asc_index_x + 1000 + 1\n",
    "# print(start_col, end_col)\n",
    "# print(max_rows, rows_to_skip)\n",
    "\n",
    "# 2.2 Create the 5km buffer to clip the elevation array\n",
    "elev_arr = np.loadtxt(r'.\\Material\\elevation\\SZ.asc', skiprows=rows_to_skip, max_rows=max_rows, usecols=range(start_col,end_col))\n",
    "# print(elev_arr.max())\n",
    "# print(elev_arr.shape)\n",
    "highest_elevation = np.unravel_index(elev_arr.argmax(), elev_arr.shape)\n",
    "# print(highest_elevation)\n",
    "h_x_index = highest_elevation[1] - (ELEVATION_RADIUS // cell) * 2\n",
    "h_y_index = highest_elevation[0] - (ELEVATION_RADIUS // cell) * 2\n",
    "bng_easting = (h_x_index + asc_index_x) * cell + lx\n",
    "bng_northing = (h_y_index + asc_index_y) * cell + ly\n",
    "print((bng_easting, bng_northing))"
   ]
  },
  {
   "cell_type": "code",
   "execution_count": null,
   "metadata": {},
   "outputs": [],
   "source": []
  }
 ],
 "metadata": {
  "kernelspec": {
   "display_name": "Python 3",
   "language": "python",
   "name": "python3"
  },
  "language_info": {
   "codemirror_mode": {
    "name": "ipython",
    "version": 3
   },
   "file_extension": ".py",
   "mimetype": "text/x-python",
   "name": "python",
   "nbconvert_exporter": "python",
   "pygments_lexer": "ipython3",
   "version": "3.8.3"
  }
 },
 "nbformat": 4,
 "nbformat_minor": 4
}
